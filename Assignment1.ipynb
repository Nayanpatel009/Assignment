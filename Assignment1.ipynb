{
  "nbformat": 4,
  "nbformat_minor": 0,
  "metadata": {
    "colab": {
      "name": "Assignment1.ipynb",
      "provenance": [],
      "collapsed_sections": []
    },
    "kernelspec": {
      "name": "python3",
      "display_name": "Python 3"
    },
    "language_info": {
      "name": "python"
    }
  },
  "cells": [
    {
      "cell_type": "code",
      "source": [
        "import pandas as pd"
      ],
      "metadata": {
        "id": "YgE7-xWAMaRW"
      },
      "execution_count": 1,
      "outputs": []
    },
    {
      "cell_type": "code",
      "source": [
        "diamond = pd.read_csv('DiamondData.csv')"
      ],
      "metadata": {
        "id": "Gx7LIdHWMhd1"
      },
      "execution_count": 3,
      "outputs": []
    },
    {
      "cell_type": "code",
      "source": [
        "df = pd.read_csv('DiamondData.csv', index_col=0)"
      ],
      "metadata": {
        "id": "M-46KWpUNU1O"
      },
      "execution_count": 5,
      "outputs": []
    },
    {
      "cell_type": "code",
      "source": [
        "d = pd.read_csv('DiamondData.csv')\n",
        "print (d)"
      ],
      "metadata": {
        "colab": {
          "base_uri": "https://localhost:8080/"
        },
        "id": "KHNQJxjOUj4K",
        "outputId": "47ddf805-1b1c-42cd-88aa-864ae503a0ab"
      },
      "execution_count": 6,
      "outputs": [
        {
          "output_type": "stream",
          "name": "stdout",
          "text": [
            "       carat        cut color clarity  depth  table    price     x     y     z\n",
            "0       1.50       Fair     G     SI1   64.5   57.0  10352.0  7.15  7.09  4.59\n",
            "1       0.70      Ideal     E     VS2   61.4   57.0   2274.0  5.72  5.78  3.53\n",
            "2       1.22    Premium     G     VS1   61.3   58.0   8779.0  6.91  6.89  4.23\n",
            "3       0.51    Premium     E     VS2   62.5   60.0   1590.0  5.08  5.10  3.18\n",
            "4       2.02  Very Good     J     SI2   59.2   60.0  11757.0  8.27  8.39  4.91\n",
            "...      ...        ...   ...     ...    ...    ...      ...   ...   ...   ...\n",
            "49995   2.01    Premium     I     SI1   62.4   61.0  15707.0  8.01  7.99  4.99\n",
            "49996   0.80    Premium     G      IF   62.6   58.0   4193.0  5.93  5.89  3.70\n",
            "49997   0.90  Very Good     F     SI2   61.4   62.0   3770.0  6.11  6.20  3.78\n",
            "49998   1.24      Ideal     F     SI2   61.4   58.0   6503.0  6.85  6.90  4.22\n",
            "49999   0.70      Ideal     I    VVS1   61.4   55.0   2489.0  5.70  5.76  3.52\n",
            "\n",
            "[50000 rows x 10 columns]\n"
          ]
        }
      ]
    },
    {
      "cell_type": "code",
      "source": [
        "result = df.head(7)\n",
        "print(\"First 10 rows of the DataFrame:\")\n",
        "print(result)"
      ],
      "metadata": {
        "colab": {
          "base_uri": "https://localhost:8080/"
        },
        "id": "SyAqX7utZ6t9",
        "outputId": "e56ba526-0516-4fef-983e-7e01f4953568"
      },
      "execution_count": 7,
      "outputs": [
        {
          "output_type": "stream",
          "name": "stdout",
          "text": [
            "First 10 rows of the DataFrame:\n",
            "             cut color clarity  depth  table    price     x     y     z\n",
            "carat                                                                  \n",
            "1.50        Fair     G     SI1   64.5   57.0  10352.0  7.15  7.09  4.59\n",
            "0.70       Ideal     E     VS2   61.4   57.0   2274.0  5.72  5.78  3.53\n",
            "1.22     Premium     G     VS1   61.3   58.0   8779.0  6.91  6.89  4.23\n",
            "0.51     Premium     E     VS2   62.5   60.0   1590.0  5.08  5.10  3.18\n",
            "2.02   Very Good     J     SI2   59.2   60.0  11757.0  8.27  8.39  4.91\n",
            "0.70   Very Good     E     SI1   63.2   61.0   2164.0  5.61  5.49  3.51\n",
            "0.46       Ideal     G    VVS1   60.7   57.0   1453.0  4.98  5.03  3.04\n"
          ]
        }
      ]
    },
    {
      "cell_type": "code",
      "source": [
        "result = df.tail(7)\n",
        "print(\"First 7 rows of the DataFrame:\")\n",
        "print(result)"
      ],
      "metadata": {
        "colab": {
          "base_uri": "https://localhost:8080/"
        },
        "id": "OHP398gnbZVL",
        "outputId": "14fa1b71-0802-4cb1-f736-5dc6f0ce7dba"
      },
      "execution_count": 8,
      "outputs": [
        {
          "output_type": "stream",
          "name": "stdout",
          "text": [
            "First 7 rows of the DataFrame:\n",
            "             cut color clarity  depth  table    price     x     y     z\n",
            "carat                                                                  \n",
            "1.00        Good     F      IF   60.7   64.0   9660.0  6.42  6.40  3.89\n",
            "0.50   Very Geod     I     SI1   62.4   58.0   1048.0  5.00  5.06  3.14\n",
            "2.01     Premium     I     SI1   62.4   61.0  15707.0  8.01  7.99  4.99\n",
            "0.80     Premium     G      IF   62.6   58.0   4193.0  5.93  5.89  3.70\n",
            "0.90   Very Good     F     SI2   61.4   62.0   3770.0  6.11  6.20  3.78\n",
            "1.24       Ideal     F     SI2   61.4   58.0   6503.0  6.85  6.90  4.22\n",
            "0.70       Ideal     I    VVS1   61.4   55.0   2489.0  5.70  5.76  3.52\n"
          ]
        }
      ]
    },
    {
      "cell_type": "code",
      "source": [
        "from pandas import DataFrame"
      ],
      "metadata": {
        "id": "zlRb-ThccCgn"
      },
      "execution_count": 9,
      "outputs": []
    },
    {
      "cell_type": "code",
      "source": [
        "stats = df.describe(include='all')\n",
        "print (stats)"
      ],
      "metadata": {
        "colab": {
          "base_uri": "https://localhost:8080/"
        },
        "id": "9BdrZmsuoUdw",
        "outputId": "8c17b7a5-7abb-4e7d-9fbc-471aefe0646d"
      },
      "execution_count": 10,
      "outputs": [
        {
          "output_type": "stream",
          "name": "stdout",
          "text": [
            "          cut  color clarity         depth         table         price  \\\n",
            "count   50000  50000   50000  49529.000000  49610.000000  49747.000000   \n",
            "unique      6      7       8           NaN           NaN           NaN   \n",
            "top     Ideal      G     SI1           NaN           NaN           NaN   \n",
            "freq    19918  10493   12120           NaN           NaN           NaN   \n",
            "mean      NaN    NaN     NaN     61.748402     57.464787   3938.803486   \n",
            "std       NaN    NaN     NaN      1.429476      2.242345   3994.643235   \n",
            "min       NaN    NaN     NaN     43.000000     43.000000    326.000000   \n",
            "25%       NaN    NaN     NaN     61.000000     56.000000    949.000000   \n",
            "50%       NaN    NaN     NaN     61.800000     57.000000   2401.000000   \n",
            "75%       NaN    NaN     NaN     62.500000     59.000000   5339.000000   \n",
            "max       NaN    NaN     NaN     79.000000     95.000000  18823.000000   \n",
            "\n",
            "                   x             y             z  \n",
            "count   49779.000000  49667.000000  49572.000000  \n",
            "unique           NaN           NaN           NaN  \n",
            "top              NaN           NaN           NaN  \n",
            "freq             NaN           NaN           NaN  \n",
            "mean        5.731776      5.733675      3.539514  \n",
            "std         1.122125      1.119993      0.706533  \n",
            "min         0.000000      0.000000      0.000000  \n",
            "25%         4.710000      4.720000      2.910000  \n",
            "50%         5.700000      5.710000      3.530000  \n",
            "75%         6.540000      6.540000      4.040000  \n",
            "max        10.230000     31.800000     31.800000  \n"
          ]
        }
      ]
    },
    {
      "cell_type": "code",
      "source": [
        "ser = pd.Series(df['cut']) \n",
        "data = ser.count()\n",
        "print(data)"
      ],
      "metadata": {
        "colab": {
          "base_uri": "https://localhost:8080/"
        },
        "id": "USxmflaarEBn",
        "outputId": "e1e3dcbe-1996-4e36-af3d-5fa804d8990d"
      },
      "execution_count": 11,
      "outputs": [
        {
          "output_type": "stream",
          "name": "stdout",
          "text": [
            "50000\n"
          ]
        }
      ]
    },
    {
      "cell_type": "code",
      "source": [
        "ser = pd.Series(df['color']) \n",
        "data = ser.head()\n",
        "print(data)"
      ],
      "metadata": {
        "colab": {
          "base_uri": "https://localhost:8080/"
        },
        "id": "t9S1QfHku3R4",
        "outputId": "9460a9ca-46ea-4501-df2a-7375568e17da"
      },
      "execution_count": 12,
      "outputs": [
        {
          "output_type": "stream",
          "name": "stdout",
          "text": [
            "carat\n",
            "1.50    G\n",
            "0.70    E\n",
            "1.22    G\n",
            "0.51    E\n",
            "2.02    J\n",
            "Name: color, dtype: object\n"
          ]
        }
      ]
    },
    {
      "cell_type": "code",
      "source": [
        "ser = pd.Series(df['clarity']) \n",
        "data = ser.tail()\n",
        "print(data)"
      ],
      "metadata": {
        "colab": {
          "base_uri": "https://localhost:8080/"
        },
        "id": "tXOiKKIbu4HW",
        "outputId": "23ec3475-76e5-458c-e17c-8b2c188401ba"
      },
      "execution_count": 13,
      "outputs": [
        {
          "output_type": "stream",
          "name": "stdout",
          "text": [
            "carat\n",
            "2.01     SI1\n",
            "0.80      IF\n",
            "0.90     SI2\n",
            "1.24     SI2\n",
            "0.70    VVS1\n",
            "Name: clarity, dtype: object\n"
          ]
        }
      ]
    },
    {
      "cell_type": "code",
      "source": [
        "ser = pd.Series(df['clarity'])\n",
        "data = ser.unique()\n",
        "print(data)"
      ],
      "metadata": {
        "colab": {
          "base_uri": "https://localhost:8080/"
        },
        "id": "2WGEzrSXvb6t",
        "outputId": "f7df4ce8-90f7-4de4-f418-2ec480b7920d"
      },
      "execution_count": 14,
      "outputs": [
        {
          "output_type": "stream",
          "name": "stdout",
          "text": [
            "['SI1' 'VS2' 'VS1' 'SI2' 'VVS1' 'VVS2' 'I1' 'IF']\n"
          ]
        }
      ]
    },
    {
      "cell_type": "code",
      "source": [
        "df.cut.unique(),df.color.unique(),df.clarity.unique()"
      ],
      "metadata": {
        "colab": {
          "base_uri": "https://localhost:8080/"
        },
        "id": "gc1BmMkGGvzL",
        "outputId": "234279ef-9786-45dd-8792-6012c573785d"
      },
      "execution_count": 17,
      "outputs": [
        {
          "output_type": "execute_result",
          "data": {
            "text/plain": [
              "(array(['Fair', 'Ideal', 'Premium', 'Very Good', 'Very Geod', 'Good'],\n",
              "       dtype=object),\n",
              " array(['G', 'E', 'J', 'F', 'H', 'D', 'I'], dtype=object),\n",
              " array(['SI1', 'VS2', 'VS1', 'SI2', 'VVS1', 'VVS2', 'I1', 'IF'],\n",
              "       dtype=object))"
            ]
          },
          "metadata": {},
          "execution_count": 17
        }
      ]
    },
    {
      "cell_type": "code",
      "source": [
        "import matplotlib.pyplot as pl"
      ],
      "metadata": {
        "id": "y3rSiyvBzQXj"
      },
      "execution_count": 18,
      "outputs": []
    },
    {
      "cell_type": "code",
      "source": [
        "df.hist(column='y');df.hist(column='z');df.hist(column='table');df.hist(column='depth');df.hist(column='price');df.hist(column='x');"
      ],
      "metadata": {
        "colab": {
          "base_uri": "https://localhost:8080/",
          "height": 1000
        },
        "id": "X7HDjKZB0gc3",
        "outputId": "6107a867-a04c-42c4-9ba2-09001388a746"
      },
      "execution_count": 19,
      "outputs": [
        {
          "output_type": "display_data",
          "data": {
            "text/plain": [
              "<Figure size 432x288 with 1 Axes>"
            ],
            "image/png": "[encoded data removed]"
          },
          "metadata": {
            "needs_background": "light"
          }
        },
        {
          "output_type": "display_data",
          "data": {
            "text/plain": [
              "<Figure size 432x288 with 1 Axes>"
            ],
            "image/png": "[encoded data removed]"
          },
          "metadata": {
            "needs_background": "light"
          }
        },
        {
          "output_type": "display_data",
          "data": {
            "text/plain": [
              "<Figure size 432x288 with 1 Axes>"
            ],
            "image/png": "[encoded data removed]"
          },
          "metadata": {
            "needs_background": "light"
          }
        },
        {
          "output_type": "display_data",
          "data": {
            "text/plain": [
              "<Figure size 432x288 with 1 Axes>"
            ],
            "image/png": "[encoded data removed]"
          },
          "metadata": {
            "needs_background": "light"
          }
        },
        {
          "output_type": "display_data",
          "data": {
            "text/plain": [
              "<Figure size 432x288 with 1 Axes>"
            ],
            "image/png": "[encoded data removed]"
          },
          "metadata": {
            "needs_background": "light"
          }
        },
        {
          "output_type": "display_data",
          "data": {
            "text/plain": [
              "<Figure size 432x288 with 1 Axes>"
            ],
            "image/png": "[encoded data removed]"
          },
          "metadata": {
            "needs_background": "light"
          }
        }
      ]
    }
  ]
}