{
  "nbformat": 4,
  "nbformat_minor": 0,
  "metadata": {
    "colab": {
      "provenance": [],
      "collapsed_sections": [],
      "authorship_tag": "ABX9TyNkKI9CYHS3HCYAEgl7mNuZ",
      "include_colab_link": true
    },
    "kernelspec": {
      "name": "python3",
      "display_name": "Python 3"
    },
    "language_info": {
      "name": "python"
    }
  },
  "cells": [
    {
      "cell_type": "markdown",
      "metadata": {
        "id": "view-in-github",
        "colab_type": "text"
      },
      "source": [
        "<a href=\"https://colab.research.google.com/github/Nayanpatel009/Assignment/blob/main/Discussion.ipynb\" target=\"_parent\"><img src=\"https://colab.research.google.com/assets/colab-badge.svg\" alt=\"Open In Colab\"/></a>"
      ]
    },
    {
      "cell_type": "code",
      "execution_count": 11,
      "metadata": {
        "id": "HdJzIlIxVqNo"
      },
      "outputs": [],
      "source": [
        "import requests"
      ]
    },
    {
      "cell_type": "code",
      "source": [
        "import nltk\n",
        "nltk.download('stopwords')\n",
        "\n",
        "nltk.download('wordnet')\n",
        "\n",
        "nltk.download('punkt')"
      ],
      "metadata": {
        "id": "X7vh3IheZz1r"
      },
      "execution_count": null,
      "outputs": []
    },
    {
      "cell_type": "code",
      "source": [
        "response = requests.get('https://www.python.org')"
      ],
      "metadata": {
        "id": "yxMl-FNpVwBZ"
      },
      "execution_count": 13,
      "outputs": []
    },
    {
      "cell_type": "code",
      "source": [
        "response.content"
      ],
      "metadata": {
        "id": "KFsWrdxpVxYr"
      },
      "execution_count": null,
      "outputs": []
    },
    {
      "cell_type": "code",
      "source": [
        " from bs4 import BeautifulSoup"
      ],
      "metadata": {
        "id": "lm64VKgwVyv6"
      },
      "execution_count": 15,
      "outputs": []
    },
    {
      "cell_type": "code",
      "source": [
        "soup = BeautifulSoup(response.content, 'html5lib')"
      ],
      "metadata": {
        "id": "ub5cYV9XVzzY"
      },
      "execution_count": 16,
      "outputs": []
    },
    {
      "cell_type": "code",
      "source": [
        "from textblob import TextBlob"
      ],
      "metadata": {
        "id": "FdJRC_8NWDAl"
      },
      "execution_count": 17,
      "outputs": []
    },
    {
      "cell_type": "code",
      "source": [
        "text = soup.get_text(strip=True)"
      ],
      "metadata": {
        "id": "ERXEzM0JV1uy"
      },
      "execution_count": 18,
      "outputs": []
    },
    {
      "cell_type": "code",
      "source": [
        "Blob = TextBlob(text)"
      ],
      "metadata": {
        "id": "NwD5jG7nXIqC"
      },
      "execution_count": 19,
      "outputs": []
    },
    {
      "cell_type": "code",
      "source": [
        "Blob"
      ],
      "metadata": {
        "id": "Ju4uN0HpXVZb"
      },
      "execution_count": null,
      "outputs": []
    },
    {
      "cell_type": "code",
      "source": [
        "Blob.words"
      ],
      "metadata": {
        "id": "h-D-DxkUX_bt"
      },
      "execution_count": null,
      "outputs": []
    },
    {
      "cell_type": "code",
      "source": [
        "Blob.sentiment"
      ],
      "metadata": {
        "id": "DN3yEkT-b-e2",
        "colab": {
          "base_uri": "https://localhost:8080/"
        },
        "outputId": "10d38251-0137-4d8b-bc8e-00a11b3cc3dd"
      },
      "execution_count": 22,
      "outputs": [
        {
          "output_type": "execute_result",
          "data": {
            "text/plain": [
              "Sentiment(polarity=0.1664211804455707, subjectivity=0.4963361841410622)"
            ]
          },
          "metadata": {},
          "execution_count": 22
        }
      ]
    },
    {
      "cell_type": "code",
      "source": [
        "from textblob.sentiments import NaiveBayesAnalyzer"
      ],
      "metadata": {
        "id": "QAVB88jycrKy"
      },
      "execution_count": 23,
      "outputs": []
    },
    {
      "cell_type": "code",
      "source": [
        "Blob = TextBlob(text, analyzer=NaiveBayesAnalyzer())"
      ],
      "metadata": {
        "id": "nptZbRr4cr-u"
      },
      "execution_count": 24,
      "outputs": []
    },
    {
      "cell_type": "code",
      "source": [
        "Blob"
      ],
      "metadata": {
        "id": "9bSKFTBfcvOA"
      },
      "execution_count": null,
      "outputs": []
    },
    {
      "cell_type": "code",
      "source": [
        "from textblob import Word"
      ],
      "metadata": {
        "id": "z5Z8XGaWeEff"
      },
      "execution_count": 26,
      "outputs": []
    },
    {
      "cell_type": "code",
      "source": [
        "wsentence = TextBlob(text)"
      ],
      "metadata": {
        "id": "qgQwG2hweHbx"
      },
      "execution_count": 27,
      "outputs": []
    },
    {
      "cell_type": "code",
      "source": [
        "sentence = TextBlob(text)"
      ],
      "metadata": {
        "id": "Bg1uEju6ei06"
      },
      "execution_count": 28,
      "outputs": []
    },
    {
      "cell_type": "code",
      "source": [
        "sentence.correct()"
      ],
      "metadata": {
        "id": "IDZN54AUedau"
      },
      "execution_count": null,
      "outputs": []
    },
    {
      "cell_type": "code",
      "source": [
        "from pathlib import Path\n",
        "from textblob import TextBlob"
      ],
      "metadata": {
        "id": "9vMwkqYwexOT"
      },
      "execution_count": 29,
      "outputs": []
    },
    {
      "cell_type": "code",
      "source": [
        "from nltk.corpus import stopwords\n",
        "stop_words = stopwords.words()"
      ],
      "metadata": {
        "id": "YVL5s9WWfUqH"
      },
      "execution_count": 30,
      "outputs": []
    },
    {
      "cell_type": "code",
      "source": [
        "items = Blob.word_counts.items()"
      ],
      "metadata": {
        "id": "W1lhMwj2fgBr"
      },
      "execution_count": 31,
      "outputs": []
    },
    {
      "cell_type": "code",
      "source": [
        "items = [item for item in items if item[0] not in stop_words]"
      ],
      "metadata": {
        "id": "n19xoF05flCi"
      },
      "execution_count": 32,
      "outputs": []
    },
    {
      "cell_type": "code",
      "source": [
        "from operator import itemgetter"
      ],
      "metadata": {
        "id": "gWDAup3Dfl2Q"
      },
      "execution_count": 33,
      "outputs": []
    },
    {
      "cell_type": "code",
      "source": [
        "sorted_items = sorted(items, key=itemgetter(1), reverse=True)"
      ],
      "metadata": {
        "id": "QQnA3AElfq5f"
      },
      "execution_count": 34,
      "outputs": []
    },
    {
      "cell_type": "code",
      "source": [
        "top20 = sorted_items[1:21]"
      ],
      "metadata": {
        "id": "EcFVhrdbfwKX"
      },
      "execution_count": 35,
      "outputs": []
    },
    {
      "cell_type": "code",
      "source": [
        "import pandas as pd\n",
        "df = pd.DataFrame(top20, columns=['word', 'count'])\n",
        "df"
      ],
      "metadata": {
        "id": "QmACKaaHf0SR"
      },
      "execution_count": null,
      "outputs": []
    },
    {
      "cell_type": "code",
      "source": [
        "axes = df.plot.bar(x='word', y='count', legend=False)"
      ],
      "metadata": {
        "id": "NYmANEmyf7df",
        "colab": {
          "base_uri": "https://localhost:8080/",
          "height": 337
        },
        "outputId": "11c9296c-ec67-4daf-8d22-90dc46b25630"
      },
      "execution_count": 37,
      "outputs": [
        {
          "output_type": "display_data",
          "data": {
            "text/plain": [
              "<Figure size 432x288 with 1 Axes>"
            ],
            "image/png": "[encoded data removed]"
          },
          "metadata": {
            "needs_background": "light"
          }
        }
      ]
    },
    {
      "cell_type": "code",
      "source": [
        "import spacy"
      ],
      "metadata": {
        "id": "IQL6KCHVgzsQ"
      },
      "execution_count": 38,
      "outputs": []
    },
    {
      "cell_type": "code",
      "source": [
        "nlp = spacy.load('en_core_web_sm')"
      ],
      "metadata": {
        "id": "2bCBk_CBhDDb"
      },
      "execution_count": 39,
      "outputs": []
    },
    {
      "cell_type": "code",
      "source": [
        "document = nlp(Path('RomeoAndJuliet.txt').read_text())"
      ],
      "metadata": {
        "id": "SP6jZJcVhJ7H"
      },
      "execution_count": 41,
      "outputs": []
    },
    {
      "cell_type": "code",
      "source": [
        "for entity in document.ents: print(f'{entity.text}: {entity.label_}')"
      ],
      "metadata": {
        "id": "Yp2WBHXLhaHh"
      },
      "execution_count": null,
      "outputs": []
    },
    {
      "cell_type": "code",
      "source": [
        "from pathlib import Path\n",
        "document1 = nlp(Path('RomeoAndJuliet.txt').read_text())\n",
        "document2 = nlp(Path('Hamlet.txt').read_text())"
      ],
      "metadata": {
        "id": "K2GpzGlshlXV"
      },
      "execution_count": 43,
      "outputs": []
    },
    {
      "cell_type": "code",
      "source": [
        "document1.similarity(document2)"
      ],
      "metadata": {
        "id": "4FieyGjlh8JR",
        "colab": {
          "base_uri": "https://localhost:8080/"
        },
        "outputId": "eb825f1b-5162-4a37-a325-1317a6438689"
      },
      "execution_count": 44,
      "outputs": [
        {
          "output_type": "stream",
          "name": "stderr",
          "text": [
            "/usr/local/lib/python3.7/dist-packages/ipykernel_launcher.py:1: UserWarning: [W007] The model you're using has no word vectors loaded, so the result of the Doc.similarity method will be based on the tagger, parser and NER, which may not give useful similarity judgements. This may happen if you're using one of the small models, e.g. `en_core_web_sm`, which don't ship with word vectors and only use context-sensitive tensors. You can always add your own word vectors, or use one of the larger models instead if available.\n",
            "  \"\"\"Entry point for launching an IPython kernel.\n"
          ]
        },
        {
          "output_type": "execute_result",
          "data": {
            "text/plain": [
              "0.9911624790093021"
            ]
          },
          "metadata": {},
          "execution_count": 44
        }
      ]
    }
  ]
}