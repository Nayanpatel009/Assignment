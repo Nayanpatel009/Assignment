{
  "nbformat": 4,
  "nbformat_minor": 0,
  "metadata": {
    "colab": {
      "provenance": [],
      "collapsed_sections": [],
      "authorship_tag": "ABX9TyPhITbK8v3B0F+Tp4egv7wb",
      "include_colab_link": true
    },
    "kernelspec": {
      "name": "python3",
      "display_name": "Python 3"
    },
    "language_info": {
      "name": "python"
    }
  },
  "cells": [
    {
      "cell_type": "markdown",
      "metadata": {
        "id": "view-in-github",
        "colab_type": "text"
      },
      "source": [
        "<a href=\"https://colab.research.google.com/github/Nayanpatel009/Assignment/blob/main/Discussion.ipynb\" target=\"_parent\"><img src=\"https://colab.research.google.com/assets/colab-badge.svg\" alt=\"Open In Colab\"/></a>"
      ]
    },
    {
      "cell_type": "code",
      "execution_count": 113,
      "metadata": {
        "id": "HdJzIlIxVqNo"
      },
      "outputs": [],
      "source": [
        "import requests"
      ]
    },
    {
      "cell_type": "code",
      "source": [
        "import nltk\n",
        "nltk.download()"
      ],
      "metadata": {
        "id": "X7vh3IheZz1r"
      },
      "execution_count": null,
      "outputs": []
    },
    {
      "cell_type": "code",
      "source": [
        "response = requests.get('https://www.python.org')"
      ],
      "metadata": {
        "id": "yxMl-FNpVwBZ"
      },
      "execution_count": 115,
      "outputs": []
    },
    {
      "cell_type": "code",
      "source": [
        "response.content"
      ],
      "metadata": {
        "id": "KFsWrdxpVxYr"
      },
      "execution_count": null,
      "outputs": []
    },
    {
      "cell_type": "code",
      "source": [
        " from bs4 import BeautifulSoup"
      ],
      "metadata": {
        "id": "lm64VKgwVyv6"
      },
      "execution_count": 123,
      "outputs": []
    },
    {
      "cell_type": "code",
      "source": [
        "soup = BeautifulSoup(response.content, 'html5lib')"
      ],
      "metadata": {
        "id": "ub5cYV9XVzzY"
      },
      "execution_count": 124,
      "outputs": []
    },
    {
      "cell_type": "code",
      "source": [
        "from textblob import TextBlob"
      ],
      "metadata": {
        "id": "FdJRC_8NWDAl"
      },
      "execution_count": 125,
      "outputs": []
    },
    {
      "cell_type": "code",
      "source": [
        "text = soup.get_text(strip=True)"
      ],
      "metadata": {
        "id": "ERXEzM0JV1uy"
      },
      "execution_count": 126,
      "outputs": []
    },
    {
      "cell_type": "code",
      "source": [
        "Blob = TextBlob(text)"
      ],
      "metadata": {
        "id": "NwD5jG7nXIqC"
      },
      "execution_count": 127,
      "outputs": []
    },
    {
      "cell_type": "code",
      "source": [
        "Blob"
      ],
      "metadata": {
        "id": "Ju4uN0HpXVZb"
      },
      "execution_count": null,
      "outputs": []
    },
    {
      "cell_type": "code",
      "source": [
        "print(blob.sentences)"
      ],
      "metadata": {
        "id": "lIdUsObRXfEs"
      },
      "execution_count": null,
      "outputs": []
    },
    {
      "cell_type": "code",
      "source": [
        "blob.words"
      ],
      "metadata": {
        "id": "h-D-DxkUX_bt"
      },
      "execution_count": null,
      "outputs": []
    },
    {
      "cell_type": "code",
      "source": [
        "blob.noun_phrases"
      ],
      "metadata": {
        "id": "0HxyBxjOZksJ"
      },
      "execution_count": null,
      "outputs": []
    },
    {
      "cell_type": "code",
      "source": [
        "blob.sentiment"
      ],
      "metadata": {
        "id": "DN3yEkT-b-e2"
      },
      "execution_count": null,
      "outputs": []
    },
    {
      "cell_type": "code",
      "source": [
        "from textblob.sentiments import NaiveBayesAnalyzer"
      ],
      "metadata": {
        "id": "QAVB88jycrKy"
      },
      "execution_count": 132,
      "outputs": []
    },
    {
      "cell_type": "code",
      "source": [
        "blob = TextBlob(text, analyzer=NaiveBayesAnalyzer())"
      ],
      "metadata": {
        "id": "nptZbRr4cr-u"
      },
      "execution_count": 133,
      "outputs": []
    },
    {
      "cell_type": "code",
      "source": [
        "blob"
      ],
      "metadata": {
        "id": "9bSKFTBfcvOA"
      },
      "execution_count": null,
      "outputs": []
    },
    {
      "cell_type": "code",
      "source": [
        "blob.sentiment"
      ],
      "metadata": {
        "colab": {
          "base_uri": "https://localhost:8080/"
        },
        "id": "vPd7cpdEc055",
        "outputId": "0fb377b4-6cc2-4b8e-8c7e-138b78cc8a07"
      },
      "execution_count": 135,
      "outputs": [
        {
          "output_type": "execute_result",
          "data": {
            "text/plain": [
              "Sentiment(classification='pos', p_pos=1.0, p_neg=1.4253071808416715e-14)"
            ]
          },
          "metadata": {},
          "execution_count": 135
        }
      ]
    },
    {
      "cell_type": "code",
      "source": [
        "from textblob import Word"
      ],
      "metadata": {
        "id": "z5Z8XGaWeEff"
      },
      "execution_count": 137,
      "outputs": []
    },
    {
      "cell_type": "code",
      "source": [
        "wsentence = TextBlob(text)"
      ],
      "metadata": {
        "id": "qgQwG2hweHbx"
      },
      "execution_count": 138,
      "outputs": []
    },
    {
      "cell_type": "code",
      "source": [
        "sentence = TextBlob(text)"
      ],
      "metadata": {
        "id": "Bg1uEju6ei06"
      },
      "execution_count": 139,
      "outputs": []
    },
    {
      "cell_type": "code",
      "source": [
        "sentence.correct()"
      ],
      "metadata": {
        "id": "IDZN54AUedau"
      },
      "execution_count": null,
      "outputs": []
    },
    {
      "cell_type": "code",
      "source": [
        "from pathlib import Path\n",
        "from textblob import TextBlob"
      ],
      "metadata": {
        "id": "9vMwkqYwexOT"
      },
      "execution_count": 141,
      "outputs": []
    },
    {
      "cell_type": "code",
      "source": [
        "from nltk.corpus import stopwords\n",
        "stop_words = stopwords.words()"
      ],
      "metadata": {
        "id": "YVL5s9WWfUqH"
      },
      "execution_count": 142,
      "outputs": []
    },
    {
      "cell_type": "code",
      "source": [
        "items = blob.word_counts.items()"
      ],
      "metadata": {
        "id": "W1lhMwj2fgBr"
      },
      "execution_count": 143,
      "outputs": []
    },
    {
      "cell_type": "code",
      "source": [
        "items = [item for item in items if item[0] not in stop_words]"
      ],
      "metadata": {
        "id": "n19xoF05flCi"
      },
      "execution_count": 144,
      "outputs": []
    },
    {
      "cell_type": "code",
      "source": [
        "from operator import itemgetter"
      ],
      "metadata": {
        "id": "gWDAup3Dfl2Q"
      },
      "execution_count": 145,
      "outputs": []
    },
    {
      "cell_type": "code",
      "source": [
        "sorted_items = sorted(items, key=itemgetter(1), reverse=True)"
      ],
      "metadata": {
        "id": "QQnA3AElfq5f"
      },
      "execution_count": 146,
      "outputs": []
    },
    {
      "cell_type": "code",
      "source": [
        "top20 = sorted_items[1:21]"
      ],
      "metadata": {
        "id": "EcFVhrdbfwKX"
      },
      "execution_count": 147,
      "outputs": []
    },
    {
      "cell_type": "code",
      "source": [
        "import pandas as pd\n",
        "df = pd.DataFrame(top20, columns=['word', 'count'])\n",
        "df"
      ],
      "metadata": {
        "id": "QmACKaaHf0SR"
      },
      "execution_count": null,
      "outputs": []
    },
    {
      "cell_type": "code",
      "source": [
        "axes = df.plot.bar(x='word', y='count', legend=False)"
      ],
      "metadata": {
        "id": "NYmANEmyf7df"
      },
      "execution_count": null,
      "outputs": []
    },
    {
      "cell_type": "code",
      "source": [
        "import spacy"
      ],
      "metadata": {
        "id": "IQL6KCHVgzsQ"
      },
      "execution_count": 150,
      "outputs": []
    },
    {
      "cell_type": "code",
      "source": [
        "nlp = spacy.load('en_core_web_sm')"
      ],
      "metadata": {
        "id": "2bCBk_CBhDDb"
      },
      "execution_count": 151,
      "outputs": []
    },
    {
      "cell_type": "code",
      "source": [
        "document = nlp(Path('RomeoAndJuliet.txt').read_text())"
      ],
      "metadata": {
        "id": "SP6jZJcVhJ7H"
      },
      "execution_count": 153,
      "outputs": []
    },
    {
      "cell_type": "code",
      "source": [
        "for entity in document.ents: print(f'{entity.text}: {entity.label_}')"
      ],
      "metadata": {
        "id": "Yp2WBHXLhaHh"
      },
      "execution_count": null,
      "outputs": []
    },
    {
      "cell_type": "code",
      "source": [
        "from pathlib import Path\n",
        "ocument1 = nlp(Path('RomeoAndJuliet.txt').read_text())\n",
        "document2 = nlp(Path('Hamlet.txt').read_text())"
      ],
      "metadata": {
        "id": "K2GpzGlshlXV"
      },
      "execution_count": 155,
      "outputs": []
    },
    {
      "cell_type": "code",
      "source": [
        "document1.similarity(document2)"
      ],
      "metadata": {
        "id": "4FieyGjlh8JR"
      },
      "execution_count": null,
      "outputs": []
    }
  ]
}