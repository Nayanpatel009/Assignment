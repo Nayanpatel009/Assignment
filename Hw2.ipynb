{
  "nbformat": 4,
  "nbformat_minor": 0,
  "metadata": {
    "colab": {
      "provenance": [],
      "authorship_tag": "ABX9TyOh9MeMamqWqtmPA97pJNsj",
      "include_colab_link": true
    },
    "kernelspec": {
      "name": "python3",
      "display_name": "Python 3"
    },
    "language_info": {
      "name": "python"
    }
  },
  "cells": [
    {
      "cell_type": "markdown",
      "metadata": {
        "id": "view-in-github",
        "colab_type": "text"
      },
      "source": [
        "<a href=\"https://colab.research.google.com/github/Nayanpatel009/Assignment/blob/main/Hw2.ipynb\" target=\"_parent\"><img src=\"https://colab.research.google.com/assets/colab-badge.svg\" alt=\"Open In Colab\"/></a>"
      ]
    },
    {
      "cell_type": "code",
      "source": [
        "#problem 1 The number of words after removing punctuation and non-English words\n",
        "import pandas as pd\n",
        "import matplotlib.pyplot as plt\n",
        "import seaborn as sns\n",
        "import numpy as np\n",
        "import string\n",
        "import re\n",
        "import string\n",
        "\n",
        "datafile = \"/content/Shakespeare.txt\"\n",
        "file1 = open(datafile, \"r\")\n",
        "def remove_punctuation_and_non_english_words(filename):\n",
        "    with open(datafile, 'r', encoding='utf-8') as f:\n",
        "        text = f.read()\n",
        "\n",
        "\n",
        "    # Remove all non-English words\n",
        "    words = text.split()\n",
        "    english_words = set(re.findall(r'[a-zA-Z]+', text))\n",
        "    filtered_words = [word for word in words if word in english_words]\n",
        "\n",
        "    # Count the number of words\n",
        "    word_count = len(filtered_words)\n",
        "\n",
        "    return word_count\n",
        "if __name__ == '__main__':\n",
        "    filename = 'Shakespeare.txt'\n",
        "    word_count = remove_punctuation_and_non_english_words(filename)\n",
        "    print(word_count)\n",
        "    print(f'The number of words after removing punctuation and non-English words: {word_count}')\n"
      ],
      "metadata": {
        "colab": {
          "base_uri": "https://localhost:8080/"
        },
        "id": "yK8k8KKl897G",
        "outputId": "a55ef389-7d13-45f7-c10b-4ea51188e3d9"
      },
      "execution_count": 1,
      "outputs": [
        {
          "output_type": "stream",
          "name": "stdout",
          "text": [
            "14505\n",
            "The number of words after removing punctuation and non-English words: 14505\n"
          ]
        }
      ]
    },
    {
      "cell_type": "code",
      "source": [],
      "metadata": {
        "id": "2OzCFnDhAxjT"
      },
      "execution_count": null,
      "outputs": []
    },
    {
      "cell_type": "code",
      "source": [],
      "metadata": {
        "id": "n5jY_XU_Ax2G"
      },
      "execution_count": null,
      "outputs": []
    },
    {
      "cell_type": "code",
      "source": [
        "#problem 2 Word counts. Extracting the most 20 frequent words from the file\n",
        "import pandas as pd\n",
        "import matplotlib.pyplot as plt\n",
        "import seaborn as sns\n",
        "import numpy as np\n",
        "import string\n",
        "import re\n",
        "from collections import Counter\n",
        "\n",
        "datafile = \"/content/Shakespeare.txt\"\n",
        "file1 = open(datafile, \"r\")\n",
        "\n",
        "def clean_and_get_top_words(file1, top_n=20):\n",
        "    # Read the file\n",
        "    with open(datafile, 'r', encoding='utf-8') as file:\n",
        "        text = file.read()\n",
        "\n",
        "    # Remove punctuation\n",
        "    text = text.translate(str.maketrans('', '', string.punctuation))\n",
        "\n",
        "    # Remove non-English words\n",
        "    text = re.sub(r'[^a-zA-Z\\s]', '', text)\n",
        "\n",
        "    # Convert to lowercase\n",
        "    text = text.lower()\n",
        "\n",
        "    # Tokenize the text into words\n",
        "    words = text.split()\n",
        "\n",
        "    # Count the occurrences of each word\n",
        "    word_counts = Counter(words)\n",
        "\n",
        "    # Get the top N frequent words\n",
        "    top_words = word_counts.most_common(top_n)\n",
        "\n",
        "    # Print the top words and their counts\n",
        "    for word, count in top_words:\n",
        "        print(f'{word}: {count}')\n",
        "\n",
        "    # Return the top words\n",
        "    return top_words\n",
        "\n",
        "# Example usage\n",
        "file_path = 'Shakespeare.txt'\n",
        "top_words = clean_and_get_top_words(file_path, top_n=20)\n"
      ],
      "metadata": {
        "colab": {
          "base_uri": "https://localhost:8080/"
        },
        "id": "cCb7dFkg_I3N",
        "outputId": "510e3d09-204b-404d-9ba2-8a15b693a518"
      },
      "execution_count": 2,
      "outputs": [
        {
          "output_type": "stream",
          "name": "stdout",
          "text": [
            "and: 490\n",
            "the: 432\n",
            "to: 408\n",
            "my: 393\n",
            "of: 370\n",
            "i: 344\n",
            "in: 323\n",
            "that: 322\n",
            "thy: 287\n",
            "thou: 235\n",
            "with: 181\n",
            "for: 171\n",
            "is: 168\n",
            "not: 167\n",
            "me: 164\n",
            "but: 163\n",
            "a: 163\n",
            "thee: 162\n",
            "love: 162\n",
            "so: 145\n"
          ]
        }
      ]
    }
  ]
}